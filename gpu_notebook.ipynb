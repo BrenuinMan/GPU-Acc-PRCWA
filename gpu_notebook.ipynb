{
 "cells": [
  {
   "cell_type": "code",
   "execution_count": 1,
   "metadata": {},
   "outputs": [
    {
     "name": "stdout",
     "output_type": "stream",
     "text": [
      "theta 0\n"
     ]
    },
    {
     "name": "stderr",
     "output_type": "stream",
     "text": [
      "c:\\Users\\Jake Stanger\\AppData\\Local\\Programs\\Python\\Python312\\Lib\\site-packages\\torcwa\\rcwa.py:38: UserWarning: Invalid simulation data type. Set as torch.complex64.\n",
      "  warnings.warn('Invalid simulation data type. Set as torch.complex64.',UserWarning)\n"
     ]
    },
    {
     "ename": "AttributeError",
     "evalue": "'numpy.complex128' object has no attribute 'dim'",
     "output_type": "error",
     "traceback": [
      "\u001b[1;31m---------------------------------------------------------------------------\u001b[0m",
      "\u001b[1;31mAttributeError\u001b[0m                            Traceback (most recent call last)",
      "Cell \u001b[1;32mIn[1], line 32\u001b[0m\n\u001b[0;32m     23\u001b[0m wv_sweep \u001b[38;5;241m=\u001b[39m torch\u001b[38;5;241m.\u001b[39mlinspace(\u001b[38;5;241m5000\u001b[39m, \u001b[38;5;241m20000\u001b[39m, \u001b[38;5;241m100\u001b[39m, dtype\u001b[38;5;241m=\u001b[39mgeo_dtype,device\u001b[38;5;241m=\u001b[39mdevice)\n\u001b[0;32m     25\u001b[0m dev_structure \u001b[38;5;241m=\u001b[39m [\n\u001b[0;32m     26\u001b[0m     (\u001b[38;5;124m'\u001b[39m\u001b[38;5;124mair\u001b[39m\u001b[38;5;124m'\u001b[39m,\u001b[38;5;241m0.0\u001b[39m,\u001b[38;5;124m'\u001b[39m\u001b[38;5;124mslab\u001b[39m\u001b[38;5;124m'\u001b[39m), \n\u001b[0;32m     27\u001b[0m     (SiO2,\u001b[38;5;241m8000\u001b[39m,\u001b[38;5;124m'\u001b[39m\u001b[38;5;124mhoneycomb\u001b[39m\u001b[38;5;124m'\u001b[39m), \n\u001b[0;32m     28\u001b[0m     (SodaLime,\u001b[38;5;241m1000000\u001b[39m,\u001b[38;5;124m'\u001b[39m\u001b[38;5;124mslab\u001b[39m\u001b[38;5;124m'\u001b[39m), \n\u001b[0;32m     29\u001b[0m     (\u001b[38;5;124m'\u001b[39m\u001b[38;5;124mair\u001b[39m\u001b[38;5;124m'\u001b[39m,\u001b[38;5;241m0.0\u001b[39m,\u001b[38;5;124m'\u001b[39m\u001b[38;5;124mslab\u001b[39m\u001b[38;5;124m'\u001b[39m) \n\u001b[0;32m     30\u001b[0m ]\n\u001b[1;32m---> 32\u001b[0m Rs, Ts, As \u001b[38;5;241m=\u001b[39m \u001b[43mgpu_acceleration\u001b[49m\u001b[43m(\u001b[49m\u001b[43mwv_sweep\u001b[49m\u001b[43m,\u001b[49m\u001b[43m \u001b[49m\u001b[43mnG\u001b[49m\u001b[38;5;241;43m=\u001b[39;49m\u001b[38;5;241;43m2\u001b[39;49m\u001b[43m,\u001b[49m\u001b[43m \u001b[49m\u001b[43mtheta_start\u001b[49m\u001b[38;5;241;43m=\u001b[39;49m\u001b[38;5;241;43m0\u001b[39;49m\u001b[43m,\u001b[49m\u001b[43m \u001b[49m\u001b[43mtheta_end\u001b[49m\u001b[38;5;241;43m=\u001b[39;49m\u001b[38;5;241;43m80\u001b[39;49m\u001b[43m,\u001b[49m\u001b[43m \u001b[49m\u001b[43mn_theta\u001b[49m\u001b[38;5;241;43m=\u001b[39;49m\u001b[38;5;241;43m10\u001b[39;49m\u001b[43m,\u001b[49m\u001b[43m \u001b[49m\n\u001b[0;32m     33\u001b[0m \u001b[43m                \u001b[49m\u001b[43mtheta_sweep\u001b[49m\u001b[38;5;241;43m=\u001b[39;49m\u001b[38;5;28;43;01mTrue\u001b[39;49;00m\u001b[43m,\u001b[49m\u001b[43m \u001b[49m\u001b[43mNx\u001b[49m\u001b[38;5;241;43m=\u001b[39;49m\u001b[38;5;241;43m10\u001b[39;49m\u001b[43m,\u001b[49m\u001b[43m \u001b[49m\u001b[43mNy\u001b[49m\u001b[38;5;241;43m=\u001b[39;49m\u001b[38;5;241;43m10\u001b[39;49m\u001b[43m,\u001b[49m\u001b[43m \u001b[49m\u001b[43mNp\u001b[49m\u001b[38;5;241;43m=\u001b[39;49m\u001b[38;5;241;43m10\u001b[39;49m\u001b[43m,\u001b[49m\u001b[43m \u001b[49m\u001b[43mstructure\u001b[49m\u001b[38;5;241;43m=\u001b[39;49m\u001b[43mdev_structure\u001b[49m\u001b[43m)\u001b[49m\n\u001b[0;32m     35\u001b[0m plt\u001b[38;5;241m.\u001b[39mplot(wv_sweep, As)\n\u001b[0;32m     36\u001b[0m plt\u001b[38;5;241m.\u001b[39mxlabel(\u001b[38;5;124m\"\u001b[39m\u001b[38;5;124mWavelength (nm)\u001b[39m\u001b[38;5;124m\"\u001b[39m)\n",
      "File \u001b[1;32mc:\\Users\\Jake Stanger\\Documents\\GitHub\\GPU-Acc-PRCWA\\gpu_acceleration.py:122\u001b[0m, in \u001b[0;36mgpu_acceleration\u001b[1;34m(wv_sweep, nG, theta_start, theta_end, n_theta, theta_sweep, Nx, Ny, Np, structure)\u001b[0m\n\u001b[0;32m    120\u001b[0m         material \u001b[38;5;241m=\u001b[39m Ti_2\n\u001b[0;32m    121\u001b[0m \u001b[38;5;28;01mif\u001b[39;00m \u001b[38;5;28mtype\u001b[39m \u001b[38;5;241m==\u001b[39m \u001b[38;5;124m\"\u001b[39m\u001b[38;5;124mslab\u001b[39m\u001b[38;5;124m\"\u001b[39m:\n\u001b[1;32m--> 122\u001b[0m     \u001b[43mobj\u001b[49m\u001b[38;5;241;43m.\u001b[39;49m\u001b[43madd_layer\u001b[49m\u001b[43m(\u001b[49m\u001b[43mthickness\u001b[49m\u001b[43m,\u001b[49m\u001b[43m \u001b[49m\u001b[43mIndex_Lookup\u001b[49m\u001b[43m(\u001b[49m\u001b[43mmaterial\u001b[49m\u001b[43m,\u001b[49m\u001b[43mwavelength\u001b[49m\u001b[43m)\u001b[49m\u001b[43m)\u001b[49m\n\u001b[0;32m    123\u001b[0m \u001b[38;5;28;01melif\u001b[39;00m \u001b[38;5;28mtype\u001b[39m \u001b[38;5;241m==\u001b[39m \u001b[38;5;124m\"\u001b[39m\u001b[38;5;124mhoneycomb\u001b[39m\u001b[38;5;124m\"\u001b[39m:\n\u001b[0;32m    124\u001b[0m     epgrid \u001b[38;5;241m=\u001b[39m honeycomb_lattice_gpu(Nx,Ny,Np,Index_Lookup(material,wavelength))\n",
      "File \u001b[1;32mc:\\Users\\Jake Stanger\\AppData\\Local\\Programs\\Python\\Python312\\Lib\\site-packages\\torcwa\\rcwa.py:156\u001b[0m, in \u001b[0;36mrcwa.add_layer\u001b[1;34m(self, thickness, eps, mu)\u001b[0m\n\u001b[0;32m    146\u001b[0m \u001b[38;5;28;01mdef\u001b[39;00m\u001b[38;5;250m \u001b[39m\u001b[38;5;21madd_layer\u001b[39m(\u001b[38;5;28mself\u001b[39m,thickness,eps\u001b[38;5;241m=\u001b[39m\u001b[38;5;241m1.\u001b[39m,mu\u001b[38;5;241m=\u001b[39m\u001b[38;5;241m1.\u001b[39m):\n\u001b[0;32m    147\u001b[0m \u001b[38;5;250m    \u001b[39m\u001b[38;5;124;03m'''\u001b[39;00m\n\u001b[0;32m    148\u001b[0m \u001b[38;5;124;03m        Add internal layer\u001b[39;00m\n\u001b[0;32m    149\u001b[0m \n\u001b[1;32m   (...)\u001b[0m\n\u001b[0;32m    153\u001b[0m \u001b[38;5;124;03m        - mu: relative permeability\u001b[39;00m\n\u001b[0;32m    154\u001b[0m \u001b[38;5;124;03m    '''\u001b[39;00m\n\u001b[1;32m--> 156\u001b[0m     is_eps_homogenous \u001b[38;5;241m=\u001b[39m (\u001b[38;5;28mtype\u001b[39m(eps) \u001b[38;5;241m==\u001b[39m \u001b[38;5;28mfloat\u001b[39m) \u001b[38;5;129;01mor\u001b[39;00m (\u001b[38;5;28mtype\u001b[39m(eps) \u001b[38;5;241m==\u001b[39m \u001b[38;5;28mcomplex\u001b[39m) \u001b[38;5;129;01mor\u001b[39;00m (\u001b[43meps\u001b[49m\u001b[38;5;241;43m.\u001b[39;49m\u001b[43mdim\u001b[49m() \u001b[38;5;241m==\u001b[39m \u001b[38;5;241m0\u001b[39m) \u001b[38;5;129;01mor\u001b[39;00m ((eps\u001b[38;5;241m.\u001b[39mdim() \u001b[38;5;241m==\u001b[39m \u001b[38;5;241m1\u001b[39m) \u001b[38;5;129;01mand\u001b[39;00m eps\u001b[38;5;241m.\u001b[39mshape[\u001b[38;5;241m0\u001b[39m] \u001b[38;5;241m==\u001b[39m \u001b[38;5;241m1\u001b[39m)\n\u001b[0;32m    157\u001b[0m     is_mu_homogenous \u001b[38;5;241m=\u001b[39m (\u001b[38;5;28mtype\u001b[39m(mu) \u001b[38;5;241m==\u001b[39m \u001b[38;5;28mfloat\u001b[39m) \u001b[38;5;129;01mor\u001b[39;00m (\u001b[38;5;28mtype\u001b[39m(mu) \u001b[38;5;241m==\u001b[39m \u001b[38;5;28mcomplex\u001b[39m) \u001b[38;5;129;01mor\u001b[39;00m (mu\u001b[38;5;241m.\u001b[39mdim() \u001b[38;5;241m==\u001b[39m \u001b[38;5;241m0\u001b[39m) \u001b[38;5;129;01mor\u001b[39;00m ((mu\u001b[38;5;241m.\u001b[39mdim() \u001b[38;5;241m==\u001b[39m \u001b[38;5;241m1\u001b[39m) \u001b[38;5;129;01mand\u001b[39;00m mu\u001b[38;5;241m.\u001b[39mshape[\u001b[38;5;241m0\u001b[39m] \u001b[38;5;241m==\u001b[39m \u001b[38;5;241m1\u001b[39m)\n\u001b[0;32m    159\u001b[0m     \u001b[38;5;28mself\u001b[39m\u001b[38;5;241m.\u001b[39meps_conv\u001b[38;5;241m.\u001b[39mappend(eps\u001b[38;5;241m*\u001b[39mtorch\u001b[38;5;241m.\u001b[39meye(\u001b[38;5;28mself\u001b[39m\u001b[38;5;241m.\u001b[39morder_N,dtype\u001b[38;5;241m=\u001b[39m\u001b[38;5;28mself\u001b[39m\u001b[38;5;241m.\u001b[39m_dtype,device\u001b[38;5;241m=\u001b[39m\u001b[38;5;28mself\u001b[39m\u001b[38;5;241m.\u001b[39m_device) \u001b[38;5;28;01mif\u001b[39;00m is_eps_homogenous \u001b[38;5;28;01melse\u001b[39;00m \u001b[38;5;28mself\u001b[39m\u001b[38;5;241m.\u001b[39m_material_conv(eps))\n",
      "\u001b[1;31mAttributeError\u001b[0m: 'numpy.complex128' object has no attribute 'dim'"
     ]
    }
   ],
   "source": [
    "from gpu_acceleration import gpu_acceleration\n",
    "import numpy as np\n",
    "import matplotlib.pyplot as plt\n",
    "from refractiveindex import RefractiveIndexMaterial\n",
    "import torch\n",
    "import torcwa\n",
    "\n",
    "torch.backends.cuda.matmul.allow_tf32 = False # Set to True if using RTX 3090 or above\n",
    "sim_dtype = torch.complex64\n",
    "geo_dtype = torch.float32\n",
    "device = torch.device('cpu')\n",
    "\n",
    "SiO2 = RefractiveIndexMaterial(shelf='main', book='SiO2', page='Franta-25C')\n",
    "HfO2 = RefractiveIndexMaterial(shelf='main', book='HfO2', page='Franta')\n",
    "Ag = RefractiveIndexMaterial(shelf='main', book='Ag', page='Ciesielski')\n",
    "Si = RefractiveIndexMaterial(shelf='main', book='Si', page='Franta-25C')\n",
    "Ti = RefractiveIndexMaterial(shelf='main', book='Ti', page='Werner')\n",
    "Ti_2 = RefractiveIndexMaterial(shelf='main', book='Ti', page='Ordal')\n",
    "SodaLime = RefractiveIndexMaterial(shelf='glass', book='soda-lime', page='Rubin-IR')\n",
    "\n",
    "DEG_TO_RAD = np.pi / 180\n",
    "\n",
    "wv_sweep = torch.linspace(5000, 20000, 100, dtype=geo_dtype,device=device)\n",
    "\n",
    "dev_structure = [\n",
    "    ('air',0.0,'slab'), \n",
    "    (SiO2,8000,'honeycomb'), \n",
    "    (SodaLime,1000000,'slab'), \n",
    "    ('air',0.0,'slab') \n",
    "]\n",
    "\n",
    "Rs, Ts, As = gpu_acceleration(wv_sweep, nG=2, theta_start=0, theta_end=80, n_theta=10, \n",
    "                theta_sweep=True, Nx=10, Ny=10, Np=10, structure=dev_structure)\n",
    "\n",
    "plt.plot(wv_sweep, As)\n",
    "plt.xlabel(\"Wavelength (nm)\")\n",
    "plt.ylabel(\"Absorption\")\n",
    "plt.title(\"Honeycomb on Sodalime glass; nG=2; Nx=Ny=10; Np=10\")\n",
    "plt.ylim(0, 1)"
   ]
  }
 ],
 "metadata": {
  "kernelspec": {
   "display_name": "Python 3",
   "language": "python",
   "name": "python3"
  },
  "language_info": {
   "codemirror_mode": {
    "name": "ipython",
    "version": 3
   },
   "file_extension": ".py",
   "mimetype": "text/x-python",
   "name": "python",
   "nbconvert_exporter": "python",
   "pygments_lexer": "ipython3",
   "version": "3.12.9"
  }
 },
 "nbformat": 4,
 "nbformat_minor": 2
}
