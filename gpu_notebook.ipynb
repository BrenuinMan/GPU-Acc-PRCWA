{
 "cells": [
  {
   "cell_type": "code",
   "execution_count": 1,
   "metadata": {},
   "outputs": [
    {
     "ename": "ModuleNotFoundError",
     "evalue": "No module named 'numpy'",
     "output_type": "error",
     "traceback": [
      "\u001b[31m---------------------------------------------------------------------------\u001b[39m",
      "\u001b[31mModuleNotFoundError\u001b[39m                       Traceback (most recent call last)",
      "\u001b[36mCell\u001b[39m\u001b[36m \u001b[39m\u001b[32mIn[1]\u001b[39m\u001b[32m, line 1\u001b[39m\n\u001b[32m----> \u001b[39m\u001b[32m1\u001b[39m \u001b[38;5;28;01mfrom\u001b[39;00m\u001b[38;5;250m \u001b[39m\u001b[34;01mgpu_acceleration\u001b[39;00m\u001b[38;5;250m \u001b[39m\u001b[38;5;28;01mimport\u001b[39;00m gpu_acceleration\n\u001b[32m      2\u001b[39m \u001b[38;5;28;01mimport\u001b[39;00m\u001b[38;5;250m \u001b[39m\u001b[34;01mnumpy\u001b[39;00m\u001b[38;5;250m \u001b[39m\u001b[38;5;28;01mas\u001b[39;00m\u001b[38;5;250m \u001b[39m\u001b[34;01mnp\u001b[39;00m\n\u001b[32m      3\u001b[39m \u001b[38;5;28;01mimport\u001b[39;00m\u001b[38;5;250m \u001b[39m\u001b[34;01mmatplotlib\u001b[39;00m\u001b[34;01m.\u001b[39;00m\u001b[34;01mpyplot\u001b[39;00m\u001b[38;5;250m \u001b[39m\u001b[38;5;28;01mas\u001b[39;00m\u001b[38;5;250m \u001b[39m\u001b[34;01mplt\u001b[39;00m\n",
      "\u001b[36mFile \u001b[39m\u001b[32mc:\\Users\\u1295778\\Documents\\GitHub\\GPU-Acc-PRCWA\\gpu_acceleration.py:1\u001b[39m\n\u001b[32m----> \u001b[39m\u001b[32m1\u001b[39m \u001b[38;5;28;01mfrom\u001b[39;00m\u001b[38;5;250m \u001b[39m\u001b[34;01mIndexLookup\u001b[39;00m\u001b[38;5;250m \u001b[39m\u001b[38;5;28;01mimport\u001b[39;00m Index_Lookup\n\u001b[32m      2\u001b[39m \u001b[38;5;28;01mfrom\u001b[39;00m\u001b[38;5;250m \u001b[39m\u001b[34;01mrefractiveindex\u001b[39;00m\u001b[38;5;250m \u001b[39m\u001b[38;5;28;01mimport\u001b[39;00m RefractiveIndexMaterial\n\u001b[32m      3\u001b[39m \u001b[38;5;28;01mimport\u001b[39;00m\u001b[38;5;250m \u001b[39m\u001b[34;01mnumpy\u001b[39;00m\u001b[38;5;250m \u001b[39m\u001b[38;5;28;01mas\u001b[39;00m\u001b[38;5;250m \u001b[39m\u001b[34;01mnp\u001b[39;00m\n",
      "\u001b[36mFile \u001b[39m\u001b[32mc:\\Users\\u1295778\\Documents\\GitHub\\GPU-Acc-PRCWA\\IndexLookup.py:1\u001b[39m\n\u001b[32m----> \u001b[39m\u001b[32m1\u001b[39m \u001b[38;5;28;01mimport\u001b[39;00m\u001b[38;5;250m \u001b[39m\u001b[34;01mnumpy\u001b[39;00m\u001b[38;5;250m \u001b[39m\u001b[38;5;28;01mas\u001b[39;00m\u001b[38;5;250m \u001b[39m\u001b[34;01mnp\u001b[39;00m\n\u001b[32m      3\u001b[39m \u001b[38;5;28;01mdef\u001b[39;00m\u001b[38;5;250m \u001b[39m\u001b[34mIndex_Lookup\u001b[39m(material, wavelength):\n\u001b[32m      4\u001b[39m     \u001b[38;5;28;01mif\u001b[39;00m material == \u001b[33m'\u001b[39m\u001b[33mair\u001b[39m\u001b[33m'\u001b[39m:\n",
      "\u001b[31mModuleNotFoundError\u001b[39m: No module named 'numpy'"
     ]
    }
   ],
   "source": [
    "from gpu_acceleration import gpu_acceleration\n",
    "import numpy as np\n",
    "import matplotlib.pyplot as plt\n",
    "from refractiveindex import RefractiveIndexMaterial\n",
    "import torch\n",
    "import torcwa\n",
    "\n",
    "torch.backends.cuda.matmul.allow_tf32 = False # Set to True if using RTX 3090 or above\n",
    "sim_dtype = torch.complex64\n",
    "geo_dtype = torch.float32\n",
    "device = torch.device('cpu')\n",
    "\n",
    "SiO2 = RefractiveIndexMaterial(shelf='main', book='SiO2', page='Franta-25C')\n",
    "HfO2 = RefractiveIndexMaterial(shelf='main', book='HfO2', page='Franta')\n",
    "Ag = RefractiveIndexMaterial(shelf='main', book='Ag', page='Ciesielski')\n",
    "Si = RefractiveIndexMaterial(shelf='main', book='Si', page='Franta-25C')\n",
    "Ti = RefractiveIndexMaterial(shelf='main', book='Ti', page='Werner')\n",
    "Ti_2 = RefractiveIndexMaterial(shelf='main', book='Ti', page='Ordal')\n",
    "SodaLime = RefractiveIndexMaterial(shelf='glass', book='soda-lime', page='Rubin-IR')\n",
    "\n",
    "DEG_TO_RAD = np.pi / 180\n",
    "\n",
    "wv_sweep = torch.linspace(5000, 20000, 100, dtype=geo_dtype,device=device)\n",
    "\n",
    "dev_structure = [\n",
    "    ('air',0.0,'slab'), \n",
    "    (SiO2,8000,'honeycomb'), \n",
    "    (SodaLime,1000000,'slab'), \n",
    "    ('air',0.0,'slab') \n",
    "]\n",
    "\n",
    "Rs, Ts, As = gpu_acceleration(wv_sweep, nG=2, theta_start=0, theta_end=80, n_theta=10, \n",
    "                theta_sweep=True, Nx=10, Ny=10, Np=10, structure=dev_structure)\n",
    "\n",
    "plt.plot(wv_sweep, As)\n",
    "plt.xlabel(\"Wavelength (nm)\")\n",
    "plt.ylabel(\"Absorption\")\n",
    "plt.title(\"Honeycomb on Sodalime glass; nG=2; Nx=Ny=10; Np=10\")\n",
    "plt.ylim(0, 1)"
   ]
  }
 ],
 "metadata": {
  "kernelspec": {
   "display_name": "Python 3",
   "language": "python",
   "name": "python3"
  },
  "language_info": {
   "codemirror_mode": {
    "name": "ipython",
    "version": 3
   },
   "file_extension": ".py",
   "mimetype": "text/x-python",
   "name": "python",
   "nbconvert_exporter": "python",
   "pygments_lexer": "ipython3",
   "version": "3.12.9"
  }
 },
 "nbformat": 4,
 "nbformat_minor": 2
}
